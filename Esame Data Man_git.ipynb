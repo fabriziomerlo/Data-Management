{
 "cells": [
  {
   "cell_type": "markdown",
   "id": "aab194cd",
   "metadata": {},
   "source": [
    "### Importazione librerie"
   ]
  },
  {
   "cell_type": "code",
   "execution_count": null,
   "id": "6ec6213d",
   "metadata": {},
   "outputs": [],
   "source": [
    "from selenium import webdriver\n",
    "from selenium.webdriver.common.keys import Keys\n",
    "from selenium.webdriver.support import expected_conditions as EC\n",
    "from selenium.webdriver.common.by import By\n",
    "from selenium.webdriver.support.wait import WebDriverWait\n",
    "import time\n",
    "import spotipy\n",
    "from spotipy.oauth2 import SpotifyClientCredentials\n",
    "import pandas as pd\n",
    "import numpy as np\n",
    "from selenium.common.exceptions import TimeoutException\n",
    "import mysql.connector\n",
    "from requests.exceptions import ReadTimeout\n",
    "from urllib.error import HTTPError\n",
    "import collections\n",
    "import editdistance\n",
    "from selenium.common.exceptions import WebDriverException as WDE\n",
    "from instagramy.plugins.analysis import analyze_users_popularity\n",
    "from selenium.common.exceptions import NoSuchElementException\n",
    "from sqlalchemy import create_engine"
   ]
  },
  {
   "cell_type": "markdown",
   "id": "fe27e57c",
   "metadata": {},
   "source": [
    "### Connessione al DataBase"
   ]
  },
  {
   "cell_type": "code",
   "execution_count": null,
   "id": "c6449df6",
   "metadata": {},
   "outputs": [],
   "source": [
    "db = mysql.connector.connect(\n",
    "    host= \"localhost\",\n",
    "    user=\"root\",\n",
    "    password=\"INSERT PASSWORD\",\n",
    "    database=\"INSER NAME DB\"\n",
    ")\n",
    "\n",
    "print(db)\n",
    "cursor=db.cursor()\n",
    "#cursor.execute(\"Create Database ProgettoDataMan\")"
   ]
  },
  {
   "cell_type": "markdown",
   "id": "abaf6b89",
   "metadata": {},
   "source": [
    "### Creazione tabelle Spotify e Artista"
   ]
  },
  {
   "cell_type": "code",
   "execution_count": null,
   "id": "030605fc",
   "metadata": {},
   "outputs": [],
   "source": [
    "#sql = \"DROP TABLE Spotify\"\n",
    "#cursor.execute(sql)\n",
    "cursor.execute(\"CREATE TABLE Spotify (id INT AUTO_INCREMENT PRIMARY KEY, Canzone VARCHAR(255),Durata_Minuiti VARCHAR(255), Popolarita INT, Artista VARCHAR(255), Popolarita_artista INT, Follower_Artista INT, Url_Artista VARCHAR(255), Album VARCHAR(255))\")\n"
   ]
  },
  {
   "cell_type": "code",
   "execution_count": null,
   "id": "607b1275",
   "metadata": {},
   "outputs": [],
   "source": [
    "#sql = \"DROP TABLE Artista\"\n",
    "#cursor.execute(sql)\n",
    "cursor.execute(\"CREATE TABLE Artista (Artista VARCHAR(255) PRIMARY KEY, Popolarita_artista INT, Follower_Artista INT, Url_Artista VARCHAR(255), Numero_di_apparizioni INT, Numero_ascoltatori_mensili VARCHAR(255))\")\n",
    "\n"
   ]
  },
  {
   "cell_type": "code",
   "execution_count": null,
   "id": "c0864fa4",
   "metadata": {},
   "outputs": [],
   "source": []
  },
  {
   "cell_type": "markdown",
   "id": "d8c56b09",
   "metadata": {},
   "source": [
    "### Dichiarazione Funzioni"
   ]
  },
  {
   "cell_type": "code",
   "execution_count": null,
   "id": "62239b4d",
   "metadata": {},
   "outputs": [],
   "source": [
    "def get_playlist_tracks(username,playlist_id):\n",
    "    results = sp.user_playlist_tracks(username,playlist_id)\n",
    "    tracks = results['items']\n",
    "    return tracks\n",
    "\n",
    "def get_all_url(Url):\n",
    "    links=[]\n",
    "    elems = driver.find_elements(By.CSS_SELECTOR, \".Ft1cMGlqDsCbqmXQyeKN [href]\")\n",
    "    for elem in elems:\n",
    "        link_url= elem.get_attribute('href')\n",
    "        links.append(link_url)\n",
    "\n",
    "    l = driver.find_elements(By.CSS_SELECTOR, \".Ft1cMGlqDsCbqmXQyeKN [href]\")\n",
    "\n",
    "    nome_p=[]\n",
    "    for i in l: \n",
    "        nome_playlist= i.get_attribute(\"title\")\n",
    "        nome_p.append(nome_playlist)\n",
    "    return links,nome_p\n",
    "\n",
    "def Playlist(Url,Album,tracks):    \n",
    "    for track in tracks:\n",
    "            try:\n",
    "                if (track[\"track\"])!=None:  \n",
    "                          track_name = track[\"track\"][\"name\"]\n",
    "                          #Duration\n",
    "                          seconds=(track[\"track\"][\"duration_ms\"]/1000)%60\n",
    "                          seconds = int(seconds)\n",
    "                          minutes=(track[\"track\"][\"duration_ms\"]/(1000*60))%60\n",
    "                          minutes = int(minutes)\n",
    "                          track_duration = (\"%d:%d\" % (minutes, seconds))\n",
    "\n",
    "                          #Main Artist\n",
    "                          artist_uri = track[\"track\"][\"artists\"][0][\"uri\"]\n",
    "                          if(len(track[\"track\"][\"artists\"][0][\"external_urls\"]) != 0):\n",
    "                            artist_url = track[\"track\"][\"artists\"][0][\"external_urls\"][\"spotify\"]\n",
    "                            artist_info = sp.artist(artist_uri)\n",
    "                            artist_followers=artist_info[\"followers\"][\"total\"]\n",
    "\n",
    "\n",
    "\n",
    "                          #Name, popularity, genre\n",
    "                            artist_name = track[\"track\"][\"artists\"][0][\"name\"]\n",
    "                            artist_pop = artist_info[\"popularity\"]\n",
    "\n",
    "\n",
    "\n",
    "                            #Popularity of the track\n",
    "                            track_pop = track[\"track\"][\"popularity\"]\n",
    "                            #values = [track_name,track_duration, track_pop, artist_name, artist_pop,artist_followers,artist_url]\n",
    "                            #zipped = zip(columns, values)\n",
    "                            #a_dictionary = dict(zipped)\n",
    "                            #data.append(a_dictionary)\n",
    "                            \n",
    "                            val = (track_name,track_duration, track_pop, artist_name, artist_pop,artist_followers,artist_url,Album)\n",
    "                            cursor.execute(sql, val)\n",
    "                            db.commit()\n",
    "            except ReadTimeout:\n",
    "                print('Spotify timed out... trying again...')\n",
    "    return 1\n",
    "\n",
    "\n",
    "def Is_Certificated_CalcoloEditDistance(Nome_Artista, Nome_Instagram, path):\n",
    "    try:\n",
    "        l= WebDriverWait(driver, 2).until(EC.element_to_be_clickable((By.XPATH, path)))\n",
    "        s= l.text\n",
    "        print(\"Element exist\")\n",
    "        nome_distance=(1-(editdistance.eval(Nome_Artista, Nome_Instagram)/max(len(Nome_Artista), len(Nome_Instagram))))+0.5\n",
    "        \n",
    "    except NoSuchElementException:\n",
    "            nome_distance= 1-(editdistance.eval(Nome_Artista, Nome_Instagram)/max(len(Nome_Artista), len(Nome_Instagram)))\n",
    "            print(\"Element does not exist\")\n",
    "    except TimeoutException:\n",
    "            nome_distance= 1-(editdistance.eval(Nome_Artista, Nome_Instagram)/max(len(Nome_Artista), len(Nome_Instagram)))\n",
    "            print(\"Element does not exist\")\n",
    "    return nome_distance\n",
    "    "
   ]
  },
  {
   "cell_type": "markdown",
   "id": "8f707bd7",
   "metadata": {},
   "source": [
    "### Log-in spotify"
   ]
  },
  {
   "cell_type": "code",
   "execution_count": null,
   "id": "73f987fe",
   "metadata": {},
   "outputs": [],
   "source": [
    "PATH = r\"/Users/fabriziomerlo/Desktop/Work/chromedriver\"\n",
    "driver = webdriver.Chrome(PATH)\n",
    "driver.get(\"https://accounts.spotify.com/it/login\")\n"
   ]
  },
  {
   "cell_type": "markdown",
   "id": "c25841c9",
   "metadata": {},
   "source": [
    "### Autenticazione per l'utilizzo delle Api"
   ]
  },
  {
   "cell_type": "code",
   "execution_count": null,
   "id": "bd87b408",
   "metadata": {},
   "outputs": [],
   "source": [
    "client_credentials_manager = SpotifyClientCredentials(client_id='57eb188f9b4240d0a59246fae020b4ec',\n",
    "client_secret='1e6d7ee6ef2b4f7a832c7b2c02fea9c7')\n",
    "sp = spotipy.Spotify(client_credentials_manager = client_credentials_manager)\n",
    "username_spotify = \"https://open.spotify.com/user/spotify?si=e020533084944773\""
   ]
  },
  {
   "cell_type": "markdown",
   "id": "473af226",
   "metadata": {},
   "source": [
    "### Scraping in Spotify"
   ]
  },
  {
   "cell_type": "code",
   "execution_count": null,
   "id": "8fbc7027",
   "metadata": {},
   "outputs": [],
   "source": [
    "username = WebDriverWait(driver,10).until(EC.element_to_be_clickable((By.CSS_SELECTOR, \"input[id=login-username]\")))\n",
    "password = WebDriverWait(driver,10).until(EC.element_to_be_clickable((By.CSS_SELECTOR, \"input[id=login-password]\")))\n",
    "\n",
    "username.clear()\n",
    "username.send_keys(\"INSERT EMAIL\")\n",
    "password.clear()\n",
    "password.send_keys(\"INSERT PASSWORD\")\n",
    "\n",
    "button = WebDriverWait(driver, 2).until(EC.element_to_be_clickable((By.CSS_SELECTOR, \"button[id=login-button]\"))).click()\n",
    "\n",
    "time.sleep(3)"
   ]
  },
  {
   "cell_type": "code",
   "execution_count": null,
   "id": "bdfb0ca8",
   "metadata": {},
   "outputs": [],
   "source": [
    "button2 = WebDriverWait(driver, 2).until(EC.element_to_be_clickable((By.CSS_SELECTOR, \"button[data-testid=web-player-link]\"))).click()"
   ]
  },
  {
   "cell_type": "code",
   "execution_count": null,
   "id": "516c56e5",
   "metadata": {
    "scrolled": true
   },
   "outputs": [],
   "source": [
    "button3= WebDriverWait(driver, 2).until(EC.element_to_be_clickable((By.CSS_SELECTOR, \"button[id=onetrust-accept-btn-handler]\"))).click()"
   ]
  },
  {
   "cell_type": "markdown",
   "id": "bba3e174",
   "metadata": {},
   "source": [
    "### Lettura sezioni generi, utilizzati per scaricare il maggior numero di playlist"
   ]
  },
  {
   "cell_type": "code",
   "execution_count": null,
   "id": "d7977049",
   "metadata": {},
   "outputs": [],
   "source": [
    "df_generi = pd.read_csv(\"generi.csv\")\n",
    "size = df_generi.url_generi.size"
   ]
  },
  {
   "cell_type": "markdown",
   "id": "a9e50534",
   "metadata": {},
   "source": [
    "### Caricamento nel DataBase dei dati sulle canzoni contenute nelle Playlist"
   ]
  },
  {
   "cell_type": "code",
   "execution_count": null,
   "id": "09dfb569",
   "metadata": {},
   "outputs": [],
   "source": [
    "nome_playlist=[]\n",
    "for l in range(size):\n",
    "    try:\n",
    "            url_section=df_generi.url_generi[l]\n",
    "            driver.get(url=url_section)\n",
    "            time.sleep(15)\n",
    "            links,nome_p = get_all_url(url_section)\n",
    "            d = {'url': links, 'playlist': nome_p}\n",
    "            df2 = pd.DataFrame(data=d)\n",
    "            size2=df2.url.size\n",
    "            sql = \"INSERT INTO Spotify (Canzone,Durata_Minuiti, Popolarita, Artista,Popolarita_artista, Follower_Artista, Url_Artista, Album) VALUES (%s, %s, %s, %s, %s, %s, %s, %s)\"\n",
    "            for i in range(size2):\n",
    "                try:\n",
    "                    tracks = get_playlist_tracks(username_spotify,str(df2.url[i]))\n",
    "                    if df2.playlist[i] in nome_playlist:\n",
    "                        print(\"Playlist già inserita nel DB\")\n",
    "                    else:\n",
    "                        nome_playlist.append(df2.playlist[i])\n",
    "                        print(str(df2.url[i]))\n",
    "                        print(df2.playlist[i])\n",
    "                        print(len(tracks))\n",
    "                        if(len(tracks) > 0 and len(tracks) < 101):\n",
    "                            x = Playlist(str(df2.url[i]), df2.playlist[i],tracks)\n",
    "                except spotipy.SpotifyException as ex:\n",
    "                    print(\"Spotify find error... trying again...\")\n",
    "                except HTTPError as err:\n",
    "                    pass\n",
    "                                                                         \n",
    "\n",
    "    except ReadTimeout:\n",
    "        print('Spotify timed out... trying again...')\n",
    "        for i in range(size2):\n",
    "            tracks = get_playlist_tracks(username_spotify,str(df2.url[i]))\n",
    "            print(str(df2.url[i]))\n",
    "            print(df2.playlist[i])\n",
    "            x = Playlist(str(df2.url[i]), df2.playlist[i],tracks)        \n",
    "        \n",
    "\n"
   ]
  },
  {
   "cell_type": "markdown",
   "id": "557b1a29",
   "metadata": {},
   "source": [
    "### Lettura nome playlist per arricchimento col nuovo Dataset"
   ]
  },
  {
   "cell_type": "code",
   "execution_count": null,
   "id": "83ea352b",
   "metadata": {
    "scrolled": true
   },
   "outputs": [],
   "source": [
    "query_Album = \"SELECT DISTINCT Album FROM Spotify\"\n",
    "\n",
    "## getting records from the table\n",
    "cursor.execute(query_Album)\n",
    "\n",
    "## fetching all records from the 'cursor' object\n",
    "nome_playlist = cursor.fetchall()\n",
    "\n",
    "#print (test)\n",
    "test1 = []\n",
    "for elem in nome_playlist:\n",
    "    test1.append(elem[0])\n",
    "test1\n",
    "\n"
   ]
  },
  {
   "cell_type": "markdown",
   "id": "044ad22d",
   "metadata": {},
   "source": [
    "### Arricchimento Dataset\n"
   ]
  },
  {
   "cell_type": "code",
   "execution_count": null,
   "id": "f1ef2931",
   "metadata": {},
   "outputs": [],
   "source": [
    "csv_integration= pd.read_csv(\"spotify_officialplaylists.csv\")\n",
    "print(csv_integration[\"Playlist Name\"])"
   ]
  },
  {
   "cell_type": "code",
   "execution_count": null,
   "id": "8a9b77e6",
   "metadata": {},
   "outputs": [],
   "source": [
    "try:\n",
    "            d = {'url': csv_integration[\"URL\"], 'playlist': csv_integration[\"Playlist Name\"]}\n",
    "            df2 = pd.DataFrame(data=d)\n",
    "            size2=df2.url.size\n",
    "            sql = \"INSERT INTO Spotify (Canzone,Durata_Minuiti, Popolarita, Artista,Popolarita_artista, Follower_Artista, Url_Artista, Album) VALUES (%s, %s, %s, %s, %s, %s, %s, %s)\"\n",
    "            for i in range(size2):\n",
    "                try:\n",
    "                    tracks = get_playlist_tracks(username_spotify,str(df2.url[i]))\n",
    "                    if df2.playlist[i] in test1:\n",
    "                        print(\"Playlist già inserita nel DB\")\n",
    "                    else:\n",
    "                        test1.append(df2.playlist[i])\n",
    "                        print(str(df2.url[i]))\n",
    "                        print(df2.playlist[i])\n",
    "                        print(len(tracks))\n",
    "                        if(len(tracks) > 0 and len(tracks) < 101):\n",
    "                            x = Playlist(str(df2.url[i]), df2.playlist[i],tracks)\n",
    "                except spotipy.SpotifyException as ex:\n",
    "                    print(\"Spotify find error... trying again...\")\n",
    "                except HTTPError as err:\n",
    "                    pass\n",
    "                                                                         \n",
    "\n",
    "except ReadTimeout:\n",
    "        print('Spotify timed out... trying again...')\n",
    "        for i in range(size2):\n",
    "            tracks = get_playlist_tracks(username_spotify,str(df2.url[i]))\n",
    "            print(str(df2.url[i]))\n",
    "            print(df2.playlist[i])\n",
    "            x = Playlist(str(df2.url[i]), df2.playlist[i],tracks)   "
   ]
  },
  {
   "cell_type": "markdown",
   "id": "ab33ebf9",
   "metadata": {},
   "source": [
    "### Calcolo del numero di volte che appare l'artista nelle playlist scelte da noi di Spotify"
   ]
  },
  {
   "cell_type": "code",
   "execution_count": null,
   "id": "f72527f5",
   "metadata": {},
   "outputs": [],
   "source": [
    "query = \"SELECT Artista FROM Spotify\"\n",
    "## getting records from the table\n",
    "cursor.execute(query)\n",
    "\n",
    "## fetching all records from the 'cursor' object\n",
    "numero_apparizioni = cursor.fetchall()\n",
    "\n",
    "Num_apparizioni_playlist=pd.DataFrame(data=numero_apparizioni)\n",
    "Num_apparizioni_playlist = Num_apparizioni_playlist.rename(columns={0:'Artista'})\n",
    "numero_apparizioni=Num_apparizioni_playlist.groupby(['Artista']).size()\n",
    "Num_apparizioni_playlist=pd.DataFrame(data=numero_apparizioni.values)\n",
    "Num_apparizioni_playlist['Artista'] = numero_apparizioni.index \n",
    "Num_apparizioni_playlist = Num_apparizioni_playlist.rename(columns={0:'Numero_di_apparizioni'})\n",
    "\n",
    "\n",
    "query = \"SELECT DISTINCT Artista FROM Spotify\"\n",
    "## getting records from the table\n",
    "cursor.execute(query)\n",
    "\n",
    "## fetching all records from the 'cursor' object\n",
    "artisti = cursor.fetchall()\n",
    "\n",
    "Table_Artista= pd.DataFrame(data=artisti)\n",
    "\n",
    "Table_Artista= Table_Artista.rename(columns={0:'Artista'})\n",
    "Table_Artista= (pd.merge(Table_Artista, Num_apparizioni_playlist, on='Artista'))\n",
    "print(Table_Artista)\n"
   ]
  },
  {
   "cell_type": "markdown",
   "id": "f996c45d",
   "metadata": {},
   "source": [
    "### Query per selezionare gli artisti e i relativi dati che hanno la popolarità  e i follower maggiori della media"
   ]
  },
  {
   "cell_type": "code",
   "execution_count": null,
   "id": "8ef93d08",
   "metadata": {},
   "outputs": [],
   "source": [
    "query = \"SELECT DISTINCT Artista, Url_Artista, Popolarita_artista, Follower_Artista FROM Spotify WHERE Popolarita_artista > (SELECT AVG(Popolarita_artista) FROM Spotify) AND Follower_Artista > (SELECT AVG(Follower_Artista) FROM Spotify)\"\n",
    "\n",
    "## getting records from the table\n",
    "cursor.execute(query)\n",
    "\n",
    "## fetching all records from the 'cursor' object\n",
    "records = cursor.fetchall()\n",
    "\n",
    "Table_Artista_Finale= pd.DataFrame(data=records)\n",
    "Table_Artista_Finale= Table_Artista_Finale.rename(columns={0: 'Artista', 1:'Url_Artista',2:'Popolarita_artista',3:'Follower_Artista'})\n",
    "Table_Artista_Finale = (pd.merge(Table_Artista_Finale,Table_Artista,on='Artista'))\n",
    "print(Table_Artista_Finale)"
   ]
  },
  {
   "cell_type": "markdown",
   "id": "f932859f",
   "metadata": {},
   "source": [
    "### Integrazione, tramite scraping, del numero di ascoltatori mensili per ogni cantante "
   ]
  },
  {
   "cell_type": "code",
   "execution_count": null,
   "id": "f709a177",
   "metadata": {},
   "outputs": [],
   "source": [
    "Url_Artista = Table_Artista_Finale.Url_Artista.to_list()\n",
    "Nome_Artista = Table_Artista_Finale.Artista.to_list()\n",
    "Popolarita_Artista = Table_Artista_Finale.Popolarita_artista.to_list()\n",
    "Follower_Artista = Table_Artista_Finale.Follower_Artista.to_list()\n",
    "Numero_di_apparizioni = Table_Artista_Finale.Numero_di_apparizioni.to_list()\n",
    "\n",
    "size=Table_Artista_Finale.Url_Artista.size\n",
    "numero_ascolti_mensili=[]\n",
    "for i in range(size):\n",
    "    try:\n",
    "        driver.get(url=Url_Artista[i])\n",
    "        time.sleep(1)\n",
    "        sql = \"INSERT INTO Artista (Artista, Popolarita_artista, Follower_Artista, Url_Artista, Numero_di_apparizioni, Numero_ascoltatori_Mensili ) VALUES (%s, %s,%s, %s,%s, %s)\"\n",
    "        #num_ascolti = WebDriverWait(driver, 40).until(EC.element_to_be_clickable((By.XPATH, '/html/body/div[4]/div/div[2]/div[3]/main/div[2]/div[2]/div/div/div[2]/section/div/div[1]/div[2]/span[3]'))).text\n",
    "        num_ascolti = WebDriverWait(driver, 20).until(EC.element_to_be_clickable((By.XPATH, \"//span[@class='Ydwa1P5GkCggtLlSvphs']\"))).text\n",
    "        print(\"Artista: \" + Nome_Artista[i] + \"  \" + num_ascolti)\n",
    "        numero_ascolti_mensili.append(num_ascolti)\n",
    "        time.sleep(2)\n",
    "        val=(Nome_Artista[i],Popolarita_Artista[i],Follower_Artista[i],Url_Artista[i],Numero_di_apparizioni[i],num_ascolti)\n",
    "        cursor.execute(sql, val)\n",
    "        db.commit()\n",
    "    except TimeoutException as ex:\n",
    "        isrunning = 0\n",
    "        num_ascolti = \"NaN\"\n",
    "        print(\"Artista: \" + Nome_Artista[i] + \"  \" + num_ascolti)\n",
    "        val=(Nome_Artista[i],Popolarita_Artista[i],Follower_Artista[i],Url_Artista[i],Numero_di_apparizioni[i],num_ascolti)\n",
    "        cursor.execute(sql, val)\n",
    "        db.commit()\n",
    "        numero_ascolti_mensili.append(num_ascolti)\n",
    "        print(\"Exception has been thrown\")\n",
    "        \n",
    "    except WDE:\n",
    "        time.sleep(5)\n",
    "            \n",
    "\n"
   ]
  },
  {
   "cell_type": "markdown",
   "id": "c8d8dfd0",
   "metadata": {},
   "source": [
    "### Scraping in Instagram per trovare i nomi degli artisti utilizzando il metodo EditDistance per aumentare l'accuratezza"
   ]
  },
  {
   "cell_type": "code",
   "execution_count": null,
   "id": "daf01e04",
   "metadata": {},
   "outputs": [],
   "source": [
    "PATH = r\"/Users/fabriziomerlo/Desktop/Work/chromedriver\"\n",
    "driver = webdriver.Chrome(PATH)\n",
    "driver.get(\"https://www.instagram.com/\")"
   ]
  },
  {
   "cell_type": "code",
   "execution_count": null,
   "id": "3619f124",
   "metadata": {},
   "outputs": [],
   "source": [
    "accetta_tutti = WebDriverWait(driver, 10).until(EC.element_to_be_clickable((By.XPATH, '//button[contains(text(), \"Accetta tutti\")]'))).click()"
   ]
  },
  {
   "cell_type": "code",
   "execution_count": null,
   "id": "09c2be03",
   "metadata": {},
   "outputs": [],
   "source": [
    "username = WebDriverWait(driver,10).until(EC.element_to_be_clickable((By.CSS_SELECTOR, \"input[name=username]\")))\n",
    "password = WebDriverWait(driver,10).until(EC.element_to_be_clickable((By.CSS_SELECTOR, \"input[name=password]\")))\n",
    "\n",
    "\n",
    "#enter username and password\n",
    "username.clear()\n",
    "username.send_keys(\"INSERT EMAIL\")\n",
    "password.clear()\n",
    "password.send_keys(\"INSERT PASSWORD\")\n",
    "\n",
    "button = WebDriverWait(driver, 2).until(EC.element_to_be_clickable((By.CSS_SELECTOR, \"button[type='submit']\"))).click()"
   ]
  },
  {
   "cell_type": "code",
   "execution_count": null,
   "id": "4887ed4b",
   "metadata": {},
   "outputs": [],
   "source": [
    "not_now = WebDriverWait(driver, 10).until(EC.element_to_be_clickable((By.XPATH, '//button[contains(text(), \"Non ora\")]'))).click()"
   ]
  },
  {
   "cell_type": "code",
   "execution_count": null,
   "id": "7d1ad796",
   "metadata": {},
   "outputs": [],
   "source": [
    "not_now2 = WebDriverWait(driver, 10).until(EC.element_to_be_clickable((By.XPATH, '//button[contains(text(), \"Non ora\")]'))).click()"
   ]
  },
  {
   "cell_type": "code",
   "execution_count": null,
   "id": "14685bcd",
   "metadata": {},
   "outputs": [],
   "source": [
    "session_id = \"INSERT SESSION ID\""
   ]
  },
  {
   "cell_type": "code",
   "execution_count": null,
   "id": "3ae94380",
   "metadata": {},
   "outputs": [],
   "source": [
    "query = \"SELECT Artista FROM Artista\"\n",
    "## getting records from the table\n",
    "cursor.execute(query)\n",
    "\n",
    "## fetching all records from the 'cursor' object\n",
    "artista = cursor.fetchall()\n",
    "\n",
    "Artisti=pd.DataFrame(data=artista)\n",
    "Artisti = Artisti.rename(columns={0:'Artista'})"
   ]
  },
  {
   "cell_type": "code",
   "execution_count": null,
   "id": "4103ef7d",
   "metadata": {},
   "outputs": [],
   "source": [
    "Nome_Artista = Artisti.Artista.to_list()\n",
    "size2=Artisti.Artista.size\n",
    "nome=[]\n",
    "for i in range(size):\n",
    "    searchbox = WebDriverWait(driver, 10).until(EC.element_to_be_clickable((By.XPATH, \"//input[@placeholder='Cerca']\")))\n",
    "    searchbox.clear()\n",
    "    #search for the hashtag cat\n",
    "    keyword = Nome_Artista[i]\n",
    "    searchbox.send_keys(keyword)\n",
    "    time.sleep(3)                \n",
    "    nome1= WebDriverWait(driver, 10).until(EC.element_to_be_clickable((By.XPATH, '/html/body/div[1]/section/nav/div[2]/div/div/div[2]/div[3]/div/div[2]/div/div[1]/a/div/div[2]/div[1]'))).text\n",
    "    nome2= WebDriverWait(driver, 10).until(EC.element_to_be_clickable((By.XPATH, '/html/body/div[1]/section/nav/div[2]/div/div/div[2]/div[3]/div/div[2]/div/div[2]/a/div/div[2]/div[1]'))).text\n",
    "    nome3= WebDriverWait(driver, 10).until(EC.element_to_be_clickable((By.XPATH, '/html/body/div[1]/section/nav/div[2]/div/div/div[2]/div[3]/div/div[2]/div/div[3]/a/div/div[2]/div[1]'))).text\n",
    "    \n",
    "    nome1_distance = Is_Certificated_CalcoloEditDistance(Nome_Artista[i],nome1,'/html/body/div[1]/section/nav/div[2]/div/div/div[2]/div[3]/div/div[2]/div/div[1]/a/div/div[2]/div[1]/div/div/div[2]/span')+0.4\n",
    "    nome2_distance = Is_Certificated_CalcoloEditDistance(Nome_Artista[i],nome2,'/html/body/div[1]/section/nav/div[2]/div/div/div[2]/div[3]/div/div[2]/div/div[2]/a/div/div[2]/div[1]/div/div/div[2]/span')\n",
    "    nome3_distance = Is_Certificated_CalcoloEditDistance(Nome_Artista[i],nome3,'/html/body/div[1]/section/nav/div[2]/div/div/div[2]/div[3]/div/div[2]/div/div[3]/a/div/div[2]/div[1]/div/div/div[2]/span') \n",
    "    print(nome1_distance)\n",
    "    print(nome2_distance)\n",
    "    print(nome3_distance)\n",
    "    var = {nome1_distance:\"nome1_distance\",nome2_distance:\"nome2_distance\",nome3_distance:\"nome3_distance\"}\n",
    "    max_nome= var.get(max(var))\n",
    "    print(max_nome)\n",
    "    if (max_nome == \"nome1_distance\"):\n",
    "                      nome.append(nome1)\n",
    "                      val=(nome1)\n",
    "                      cursor.execute((\"UPDATE Artista SET Nome_Instagram = '%s' WHERE id = %s\" % (nome1,int(i+1))))\n",
    "                      print(nome1)\n",
    "    elif(max_nome == \"nome2_distance\"):\n",
    "                      nome.append(nome2)\n",
    "                      val=(nome2)\n",
    "                      cursor.execute((\"UPDATE Artista SET Nome_Instagram = '%s' WHERE id = %s\" % (nome2,int(i+1))))\n",
    "                      print(nome2)\n",
    "    else:\n",
    "                      nome.append(nome3)\n",
    "                      val=(nome3)\n",
    "                      cursor.execute((\"UPDATE Artista SET Nome_Instagram = '%s' WHERE id = %s\" % (nome3,int(i+1))))\n",
    "                      print(nome3)\n",
    "    print(\"---------------------------\")\n",
    "    db.commit()\n",
    "                      \n",
    "\n",
    "print(nome)"
   ]
  },
  {
   "cell_type": "code",
   "execution_count": null,
   "id": "756a131b",
   "metadata": {},
   "outputs": [],
   "source": [
    "query = \"select count(*) from Artista where Nome_Instagram like 'Nan';\"\n",
    "## getting records from the table\n",
    "cursor.execute(query)\n",
    "\n",
    "## fetching all records from the 'cursor' object\n",
    "valori_nan = cursor.fetchall()\n",
    "num_valori_nan = []\n",
    "for elem in valori_nan:\n",
    "    num_valori_nan.append(elem[0])\n",
    "num_valori_nan = num_valori_nan[0]\n",
    "print(num_valori_nan)"
   ]
  },
  {
   "cell_type": "markdown",
   "id": "edb29956",
   "metadata": {},
   "source": [
    "### Selezione della Top 100 dei cantanti, basandoci sul numero di ascoltatori mensili, per trovare tramite API di Instagram il numero di Follower, i Following e i Post"
   ]
  },
  {
   "cell_type": "code",
   "execution_count": null,
   "id": "6574495f",
   "metadata": {},
   "outputs": [],
   "source": [
    "query =\"SELECT Nome_Instagram,Artista,Numero_ascoltatori_mensili FROM ProgettoDataMan.Artista WHERE Nome_Instagram != 'Nan'\"\n",
    "cursor.execute(query)\n",
    "nome_instagram = cursor.fetchall()\n",
    "\n",
    "nome=pd.DataFrame(data=nome_instagram)\n",
    "nome = nome.rename(columns={0:'Nome_Instagram', 1:'Artista', 2:'Numero_ascoltatori_mensili'})\n",
    "Numero_ascoltatori_mensili = nome.Numero_ascoltatori_mensili.to_list()\n",
    "\n",
    "result=[]\n",
    "for i in range(len(Numero_ascoltatori_mensili)):\n",
    "    result.append(int((Numero_ascoltatori_mensili[i].split(\" \", 1)[0]).replace(\".\",\"\")))\n",
    "\n",
    "    \n",
    "nome[\"Numero_ascoltatori_mensili\"]= result\n",
    "nome = nome.sort_values(by=['Numero_ascoltatori_mensili'],ascending=False)\n",
    "\n",
    "print(nome)\n",
    "Nuova_Tabella=nome.iloc[0:100]\n",
    "nome2= nome.iloc[0:100].Nome_Instagram.to_list()\n"
   ]
  },
  {
   "cell_type": "code",
   "execution_count": null,
   "id": "bd3dc211",
   "metadata": {},
   "outputs": [],
   "source": [
    "session_id = \"INSERT SESSION ID\" \n",
    "dati = analyze_users_popularity(nome2, session_id)\n",
    "x= pd.DataFrame(data=dati)"
   ]
  },
  {
   "cell_type": "code",
   "execution_count": null,
   "id": "7b0c7229",
   "metadata": {},
   "outputs": [],
   "source": [
    "prova = Nuova_Tabella.reset_index(drop=True)\n",
    "x[\"Artista\"]= prova.Artista\n",
    "\n",
    "print(x)"
   ]
  },
  {
   "cell_type": "markdown",
   "id": "af364784",
   "metadata": {},
   "source": [
    "### Gestione ridondanza\n"
   ]
  },
  {
   "cell_type": "code",
   "execution_count": null,
   "id": "98891200",
   "metadata": {},
   "outputs": [],
   "source": [
    "cursor.execute(\"ALTER TABLE Spotify DROP COLUMN Popolarita_artista\")\n",
    "cursor.execute(\"ALTER TABLE Spotify DROP COLUMN Follower_Artista\")\n",
    "cursor.execute(\"ALTER TABLE Spotify DROP COLUMN Url_Artista\")"
   ]
  },
  {
   "cell_type": "markdown",
   "id": "c3039879",
   "metadata": {},
   "source": [
    "### Tabella risultati"
   ]
  },
  {
   "cell_type": "code",
   "execution_count": null,
   "id": "c4cdcd71",
   "metadata": {},
   "outputs": [],
   "source": [
    "cursor.execute(\"CREATE TABLE Instagram_Top_100 (Artista VARCHAR(255) PRIMARY KEY, Nome_Instagram VARCHAR(255), Followers INT, Following INT, Posts INT)\")\n",
    "\n"
   ]
  },
  {
   "cell_type": "code",
   "execution_count": null,
   "id": "9bc99456",
   "metadata": {},
   "outputs": [],
   "source": [
    "Nome_Instagram = x.Usernames.to_list()\n",
    "Followers = x.Followers.to_list()\n",
    "Following = x.Following.to_list()\n",
    "Posts = x.Posts.to_list()\n",
    "Nome_Artista = x.Artista.to_list()\n",
    "size=x.Artista.size\n",
    "print(Nome_Instagram)\n",
    "print(Followers)\n",
    "print(Following)\n",
    "print(Posts)\n",
    "print(Nome_Artista)\n",
    "for i in range(size):\n",
    "    sql = \"INSERT INTO Instagram_Top_100 (Artista, Nome_Instagram, Followers, Following, Posts) VALUES (%s, %s,%s, %s,%s)\"\n",
    "    val = (Nome_Artista[i],Nome_Instagram[i], Followers[i], Following[i], Posts[i])\n",
    "    cursor.execute(sql, val)\n",
    "    db.commit()"
   ]
  },
  {
   "cell_type": "code",
   "execution_count": null,
   "id": "00b18458",
   "metadata": {},
   "outputs": [],
   "source": []
  }
 ],
 "metadata": {
  "kernelspec": {
   "display_name": "Python 3 (ipykernel)",
   "language": "python",
   "name": "python3"
  },
  "language_info": {
   "codemirror_mode": {
    "name": "ipython",
    "version": 3
   },
   "file_extension": ".py",
   "mimetype": "text/x-python",
   "name": "python",
   "nbconvert_exporter": "python",
   "pygments_lexer": "ipython3",
   "version": "3.8.6"
  }
 },
 "nbformat": 4,
 "nbformat_minor": 5
}
